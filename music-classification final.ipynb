{
 "cells": [
  {
   "cell_type": "markdown",
   "id": "264e613c",
   "metadata": {},
   "source": [
    "# Machine learning review-3"
   ]
  },
  {
   "cell_type": "markdown",
   "id": "4a9cf79e",
   "metadata": {},
   "source": [
    "## The following is the continuation of the music genre classification that was done as review-2.The following code can classifiy between 10 genre of music with an accuracy of 70%"
   ]
  },
  {
   "cell_type": "markdown",
   "id": "54d09fe2",
   "metadata": {},
   "source": []
  },
  {
   "cell_type": "code",
   "execution_count": null,
   "id": "9cd30ca1",
   "metadata": {},
   "outputs": [],
   "source": []
  },
  {
   "cell_type": "code",
   "execution_count": null,
   "id": "eab90a28",
   "metadata": {},
   "outputs": [],
   "source": [
    "import pandas as pd\n",
    "df=pd.read_csv('features_30_sec.csv')"
   ]
  },
  {
   "cell_type": "code",
   "execution_count": 3,
   "id": "b7aa860f",
   "metadata": {},
   "outputs": [],
   "source": [
    "from sklearn.preprocessing import LabelEncoder\n",
    "le = LabelEncoder()"
   ]
  },
  {
   "cell_type": "code",
   "execution_count": 4,
   "id": "30a80f7e",
   "metadata": {},
   "outputs": [
    {
     "data": {
      "text/html": [
       "<div>\n",
       "<style scoped>\n",
       "    .dataframe tbody tr th:only-of-type {\n",
       "        vertical-align: middle;\n",
       "    }\n",
       "\n",
       "    .dataframe tbody tr th {\n",
       "        vertical-align: top;\n",
       "    }\n",
       "\n",
       "    .dataframe thead th {\n",
       "        text-align: right;\n",
       "    }\n",
       "</style>\n",
       "<table border=\"1\" class=\"dataframe\">\n",
       "  <thead>\n",
       "    <tr style=\"text-align: right;\">\n",
       "      <th></th>\n",
       "      <th>filename</th>\n",
       "      <th>length</th>\n",
       "      <th>chroma_stft_mean</th>\n",
       "      <th>chroma_stft_var</th>\n",
       "      <th>rms_mean</th>\n",
       "      <th>rms_var</th>\n",
       "      <th>spectral_centroid_mean</th>\n",
       "      <th>spectral_centroid_var</th>\n",
       "      <th>spectral_bandwidth_mean</th>\n",
       "      <th>spectral_bandwidth_var</th>\n",
       "      <th>...</th>\n",
       "      <th>mfcc16_var</th>\n",
       "      <th>mfcc17_mean</th>\n",
       "      <th>mfcc17_var</th>\n",
       "      <th>mfcc18_mean</th>\n",
       "      <th>mfcc18_var</th>\n",
       "      <th>mfcc19_mean</th>\n",
       "      <th>mfcc19_var</th>\n",
       "      <th>mfcc20_mean</th>\n",
       "      <th>mfcc20_var</th>\n",
       "      <th>label</th>\n",
       "    </tr>\n",
       "  </thead>\n",
       "  <tbody>\n",
       "    <tr>\n",
       "      <th>0</th>\n",
       "      <td>blues.00000.wav</td>\n",
       "      <td>661794</td>\n",
       "      <td>0.350088</td>\n",
       "      <td>0.088757</td>\n",
       "      <td>0.130228</td>\n",
       "      <td>0.002827</td>\n",
       "      <td>1784.165850</td>\n",
       "      <td>129774.064525</td>\n",
       "      <td>2002.449060</td>\n",
       "      <td>85882.761315</td>\n",
       "      <td>...</td>\n",
       "      <td>52.420910</td>\n",
       "      <td>-1.690215</td>\n",
       "      <td>36.524071</td>\n",
       "      <td>-0.408979</td>\n",
       "      <td>41.597103</td>\n",
       "      <td>-2.303523</td>\n",
       "      <td>55.062923</td>\n",
       "      <td>1.221291</td>\n",
       "      <td>46.936035</td>\n",
       "      <td>0</td>\n",
       "    </tr>\n",
       "    <tr>\n",
       "      <th>1</th>\n",
       "      <td>blues.00001.wav</td>\n",
       "      <td>661794</td>\n",
       "      <td>0.340914</td>\n",
       "      <td>0.094980</td>\n",
       "      <td>0.095948</td>\n",
       "      <td>0.002373</td>\n",
       "      <td>1530.176679</td>\n",
       "      <td>375850.073649</td>\n",
       "      <td>2039.036516</td>\n",
       "      <td>213843.755497</td>\n",
       "      <td>...</td>\n",
       "      <td>55.356403</td>\n",
       "      <td>-0.731125</td>\n",
       "      <td>60.314529</td>\n",
       "      <td>0.295073</td>\n",
       "      <td>48.120598</td>\n",
       "      <td>-0.283518</td>\n",
       "      <td>51.106190</td>\n",
       "      <td>0.531217</td>\n",
       "      <td>45.786282</td>\n",
       "      <td>0</td>\n",
       "    </tr>\n",
       "    <tr>\n",
       "      <th>2</th>\n",
       "      <td>blues.00002.wav</td>\n",
       "      <td>661794</td>\n",
       "      <td>0.363637</td>\n",
       "      <td>0.085275</td>\n",
       "      <td>0.175570</td>\n",
       "      <td>0.002746</td>\n",
       "      <td>1552.811865</td>\n",
       "      <td>156467.643368</td>\n",
       "      <td>1747.702312</td>\n",
       "      <td>76254.192257</td>\n",
       "      <td>...</td>\n",
       "      <td>40.598766</td>\n",
       "      <td>-7.729093</td>\n",
       "      <td>47.639427</td>\n",
       "      <td>-1.816407</td>\n",
       "      <td>52.382141</td>\n",
       "      <td>-3.439720</td>\n",
       "      <td>46.639660</td>\n",
       "      <td>-2.231258</td>\n",
       "      <td>30.573025</td>\n",
       "      <td>0</td>\n",
       "    </tr>\n",
       "    <tr>\n",
       "      <th>3</th>\n",
       "      <td>blues.00003.wav</td>\n",
       "      <td>661794</td>\n",
       "      <td>0.404785</td>\n",
       "      <td>0.093999</td>\n",
       "      <td>0.141093</td>\n",
       "      <td>0.006346</td>\n",
       "      <td>1070.106615</td>\n",
       "      <td>184355.942417</td>\n",
       "      <td>1596.412872</td>\n",
       "      <td>166441.494769</td>\n",
       "      <td>...</td>\n",
       "      <td>44.427753</td>\n",
       "      <td>-3.319597</td>\n",
       "      <td>50.206673</td>\n",
       "      <td>0.636965</td>\n",
       "      <td>37.319130</td>\n",
       "      <td>-0.619121</td>\n",
       "      <td>37.259739</td>\n",
       "      <td>-3.407448</td>\n",
       "      <td>31.949339</td>\n",
       "      <td>0</td>\n",
       "    </tr>\n",
       "    <tr>\n",
       "      <th>4</th>\n",
       "      <td>blues.00004.wav</td>\n",
       "      <td>661794</td>\n",
       "      <td>0.308526</td>\n",
       "      <td>0.087841</td>\n",
       "      <td>0.091529</td>\n",
       "      <td>0.002303</td>\n",
       "      <td>1835.004266</td>\n",
       "      <td>343399.939274</td>\n",
       "      <td>1748.172116</td>\n",
       "      <td>88445.209036</td>\n",
       "      <td>...</td>\n",
       "      <td>86.099236</td>\n",
       "      <td>-5.454034</td>\n",
       "      <td>75.269707</td>\n",
       "      <td>-0.916874</td>\n",
       "      <td>53.613918</td>\n",
       "      <td>-4.404827</td>\n",
       "      <td>62.910812</td>\n",
       "      <td>-11.703234</td>\n",
       "      <td>55.195160</td>\n",
       "      <td>0</td>\n",
       "    </tr>\n",
       "  </tbody>\n",
       "</table>\n",
       "<p>5 rows × 60 columns</p>\n",
       "</div>"
      ],
      "text/plain": [
       "          filename  length  chroma_stft_mean  chroma_stft_var  rms_mean  \\\n",
       "0  blues.00000.wav  661794          0.350088         0.088757  0.130228   \n",
       "1  blues.00001.wav  661794          0.340914         0.094980  0.095948   \n",
       "2  blues.00002.wav  661794          0.363637         0.085275  0.175570   \n",
       "3  blues.00003.wav  661794          0.404785         0.093999  0.141093   \n",
       "4  blues.00004.wav  661794          0.308526         0.087841  0.091529   \n",
       "\n",
       "    rms_var  spectral_centroid_mean  spectral_centroid_var  \\\n",
       "0  0.002827             1784.165850          129774.064525   \n",
       "1  0.002373             1530.176679          375850.073649   \n",
       "2  0.002746             1552.811865          156467.643368   \n",
       "3  0.006346             1070.106615          184355.942417   \n",
       "4  0.002303             1835.004266          343399.939274   \n",
       "\n",
       "   spectral_bandwidth_mean  spectral_bandwidth_var  ...  mfcc16_var  \\\n",
       "0              2002.449060            85882.761315  ...   52.420910   \n",
       "1              2039.036516           213843.755497  ...   55.356403   \n",
       "2              1747.702312            76254.192257  ...   40.598766   \n",
       "3              1596.412872           166441.494769  ...   44.427753   \n",
       "4              1748.172116            88445.209036  ...   86.099236   \n",
       "\n",
       "   mfcc17_mean  mfcc17_var  mfcc18_mean  mfcc18_var  mfcc19_mean  mfcc19_var  \\\n",
       "0    -1.690215   36.524071    -0.408979   41.597103    -2.303523   55.062923   \n",
       "1    -0.731125   60.314529     0.295073   48.120598    -0.283518   51.106190   \n",
       "2    -7.729093   47.639427    -1.816407   52.382141    -3.439720   46.639660   \n",
       "3    -3.319597   50.206673     0.636965   37.319130    -0.619121   37.259739   \n",
       "4    -5.454034   75.269707    -0.916874   53.613918    -4.404827   62.910812   \n",
       "\n",
       "   mfcc20_mean  mfcc20_var  label  \n",
       "0     1.221291   46.936035      0  \n",
       "1     0.531217   45.786282      0  \n",
       "2    -2.231258   30.573025      0  \n",
       "3    -3.407448   31.949339      0  \n",
       "4   -11.703234   55.195160      0  \n",
       "\n",
       "[5 rows x 60 columns]"
      ]
     },
     "execution_count": 4,
     "metadata": {},
     "output_type": "execute_result"
    }
   ],
   "source": [
    "dfle = df\n",
    "dfle.label = le.fit_transform(dfle.label)\n",
    "dfle.head()"
   ]
  },
  {
   "cell_type": "code",
   "execution_count": 5,
   "id": "ec0ed459",
   "metadata": {},
   "outputs": [],
   "source": [
    "dfle=dfle.drop('filename',axis='columns')"
   ]
  },
  {
   "cell_type": "code",
   "execution_count": 6,
   "id": "fc46c00f",
   "metadata": {},
   "outputs": [],
   "source": [
    "import pandas as pd\n",
    "import numpy as np\n",
    "from sklearn.feature_selection import SelectKBest\n",
    "from sklearn.feature_selection import chi2\n",
    "\n",
    "data = df\n",
    "X = data.iloc[:,0:59]  #independent columns\n",
    "y = data.iloc[:,-1]    #target column i.e price range"
   ]
  },
  {
   "cell_type": "code",
   "execution_count": 7,
   "id": "1e7d4cf0",
   "metadata": {},
   "outputs": [],
   "source": [
    "X=X.drop('filename',axis='columns')"
   ]
  },
  {
   "cell_type": "code",
   "execution_count": 61,
   "id": "2bc07261",
   "metadata": {},
   "outputs": [
    {
     "data": {
      "text/plain": [
       "ExtraTreesClassifier()"
      ]
     },
     "execution_count": 61,
     "metadata": {},
     "output_type": "execute_result"
    }
   ],
   "source": [
    "from sklearn.ensemble import ExtraTreesClassifier\n",
    "import matplotlib.pyplot as plt\n",
    "model = ExtraTreesClassifier()\n",
    "model.fit(X,y)"
   ]
  },
  {
   "cell_type": "markdown",
   "id": "94dee1fa",
   "metadata": {},
   "source": [
    "# feature importance graph"
   ]
  },
  {
   "cell_type": "code",
   "execution_count": 9,
   "id": "1aeea722",
   "metadata": {},
   "outputs": [
    {
     "name": "stdout",
     "output_type": "stream",
     "text": [
      "[0.03725485 0.03267171 0.02233893 0.02530371 0.02274359 0.02166038\n",
      " 0.02216955 0.02512649 0.01301508 0.02485552 0.02001981 0.01834395\n",
      " 0.01608963 0.01465566 0.01825564 0.01619345 0.0296099  0.012209\n",
      " 0.02901756 0.01345143 0.01636194 0.01071687 0.01607429 0.01514544\n",
      " 0.0256608  0.01939848 0.0152048  0.01986739 0.01925849 0.01636083\n",
      " 0.01673489 0.01735217 0.01780219 0.0136528  0.01990759 0.01141443\n",
      " 0.01511087 0.01439632 0.0149091  0.01360142 0.01848957 0.01155921\n",
      " 0.01422794 0.01468752 0.01288568 0.01035176 0.01446006 0.01046529\n",
      " 0.01221113 0.01111381 0.01694678 0.01205385 0.01120127 0.01210937\n",
      " 0.0105649  0.01453542 0.01189597 0.01632354]\n"
     ]
    }
   ],
   "source": [
    "print(model.feature_importances_) #use inbuilt class feature_importances of tree based classifiers"
   ]
  },
  {
   "cell_type": "code",
   "execution_count": 10,
   "id": "c3f2fdcb",
   "metadata": {},
   "outputs": [
    {
     "data": {
      "image/png": "[encoded data removed]",
      "text/plain": [
       "<Figure size 432x288 with 1 Axes>"
      ]
     },
     "metadata": {
      "needs_background": "light"
     },
     "output_type": "display_data"
    }
   ],
   "source": [
    "#plot graph of feature importances for better visualization\n",
    "feat_importances = pd.Series(model.feature_importances_, index=X.columns)\n",
    "feat_importances.nlargest(10).plot(kind='barh')\n",
    "plt.show()"
   ]
  },
  {
   "cell_type": "code",
   "execution_count": 11,
   "id": "8cd0bd09",
   "metadata": {},
   "outputs": [
    {
     "name": "stdout",
     "output_type": "stream",
     "text": [
      "length                     0.037255\n",
      "chroma_stft_mean           0.032672\n",
      "perceptr_var               0.029610\n",
      "mfcc1_mean                 0.029018\n",
      "mfcc4_mean                 0.025661\n",
      "rms_mean                   0.025304\n",
      "spectral_bandwidth_mean    0.025126\n",
      "rolloff_mean               0.024856\n",
      "rms_var                    0.022744\n",
      "chroma_stft_var            0.022339\n",
      "dtype: float64\n"
     ]
    }
   ],
   "source": [
    "print(feat_importances.nlargest(10))"
   ]
  },
  {
   "cell_type": "code",
   "execution_count": 12,
   "id": "4aa288d0",
   "metadata": {},
   "outputs": [],
   "source": [
    "df3=X.copy()\n",
    "df3.drop(df3.columns.difference(['length','chroma_stft_mean','perceptr_var','rms_mean','mfcc1_mean','rms_var','rolloff_mean','spectral_bandwidth_mean','mfcc4_mean','chroma_stft_var']), 1, inplace=True)"
   ]
  },
  {
   "cell_type": "code",
   "execution_count": 13,
   "id": "3860dd4a",
   "metadata": {},
   "outputs": [
    {
     "data": {
      "text/plain": [
       "ExtraTreesClassifier()"
      ]
     },
     "execution_count": 13,
     "metadata": {},
     "output_type": "execute_result"
    }
   ],
   "source": [
    "from sklearn.ensemble import ExtraTreesClassifier\n",
    "import matplotlib.pyplot as plt\n",
    "model = ExtraTreesClassifier()\n",
    "model.fit(X,y)"
   ]
  },
  {
   "cell_type": "code",
   "execution_count": 15,
   "id": "d02e55a0",
   "metadata": {},
   "outputs": [
    {
     "data": {
      "text/html": [
       "<div>\n",
       "<style scoped>\n",
       "    .dataframe tbody tr th:only-of-type {\n",
       "        vertical-align: middle;\n",
       "    }\n",
       "\n",
       "    .dataframe tbody tr th {\n",
       "        vertical-align: top;\n",
       "    }\n",
       "\n",
       "    .dataframe thead th {\n",
       "        text-align: right;\n",
       "    }\n",
       "</style>\n",
       "<table border=\"1\" class=\"dataframe\">\n",
       "  <thead>\n",
       "    <tr style=\"text-align: right;\">\n",
       "      <th></th>\n",
       "      <th>length</th>\n",
       "      <th>chroma_stft_mean</th>\n",
       "      <th>chroma_stft_var</th>\n",
       "      <th>rms_mean</th>\n",
       "      <th>rms_var</th>\n",
       "      <th>spectral_centroid_mean</th>\n",
       "      <th>spectral_centroid_var</th>\n",
       "      <th>spectral_bandwidth_mean</th>\n",
       "      <th>spectral_bandwidth_var</th>\n",
       "      <th>rolloff_mean</th>\n",
       "      <th>...</th>\n",
       "      <th>mfcc16_mean</th>\n",
       "      <th>mfcc16_var</th>\n",
       "      <th>mfcc17_mean</th>\n",
       "      <th>mfcc17_var</th>\n",
       "      <th>mfcc18_mean</th>\n",
       "      <th>mfcc18_var</th>\n",
       "      <th>mfcc19_mean</th>\n",
       "      <th>mfcc19_var</th>\n",
       "      <th>mfcc20_mean</th>\n",
       "      <th>mfcc20_var</th>\n",
       "    </tr>\n",
       "  </thead>\n",
       "  <tbody>\n",
       "    <tr>\n",
       "      <th>911</th>\n",
       "      <td>661794</td>\n",
       "      <td>0.343227</td>\n",
       "      <td>0.088869</td>\n",
       "      <td>0.123416</td>\n",
       "      <td>0.000943</td>\n",
       "      <td>1537.59068</td>\n",
       "      <td>491565.270316</td>\n",
       "      <td>2037.446526</td>\n",
       "      <td>172948.023608</td>\n",
       "      <td>3416.751446</td>\n",
       "      <td>...</td>\n",
       "      <td>0.082122</td>\n",
       "      <td>56.111259</td>\n",
       "      <td>-4.370571</td>\n",
       "      <td>71.112091</td>\n",
       "      <td>1.173756</td>\n",
       "      <td>96.774765</td>\n",
       "      <td>0.489495</td>\n",
       "      <td>80.002655</td>\n",
       "      <td>-5.829229</td>\n",
       "      <td>75.655388</td>\n",
       "    </tr>\n",
       "  </tbody>\n",
       "</table>\n",
       "<p>1 rows × 58 columns</p>\n",
       "</div>"
      ],
      "text/plain": [
       "     length  chroma_stft_mean  chroma_stft_var  rms_mean   rms_var  \\\n",
       "911  661794          0.343227         0.088869  0.123416  0.000943   \n",
       "\n",
       "     spectral_centroid_mean  spectral_centroid_var  spectral_bandwidth_mean  \\\n",
       "911              1537.59068          491565.270316              2037.446526   \n",
       "\n",
       "     spectral_bandwidth_var  rolloff_mean  ...  mfcc16_mean  mfcc16_var  \\\n",
       "911           172948.023608   3416.751446  ...     0.082122   56.111259   \n",
       "\n",
       "     mfcc17_mean  mfcc17_var  mfcc18_mean  mfcc18_var  mfcc19_mean  \\\n",
       "911    -4.370571   71.112091     1.173756   96.774765     0.489495   \n",
       "\n",
       "     mfcc19_var  mfcc20_mean  mfcc20_var  \n",
       "911   80.002655    -5.829229   75.655388  \n",
       "\n",
       "[1 rows x 58 columns]"
      ]
     },
     "execution_count": 15,
     "metadata": {},
     "output_type": "execute_result"
    }
   ],
   "source": [
    "df5=X.copy()\n",
    "a=df5.iloc[[911]]\n",
    "a"
   ]
  },
  {
   "cell_type": "code",
   "execution_count": 62,
   "id": "fbe1a517",
   "metadata": {},
   "outputs": [
    {
     "data": {
      "text/plain": [
       "0.999"
      ]
     },
     "execution_count": 62,
     "metadata": {},
     "output_type": "execute_result"
    }
   ],
   "source": [
    "model.score(X,y)"
   ]
  },
  {
   "cell_type": "code",
   "execution_count": 17,
   "id": "eb4bec69",
   "metadata": {},
   "outputs": [],
   "source": [
    "df6=df5.copy()\n",
    "df6['label']=y"
   ]
  },
  {
   "cell_type": "code",
   "execution_count": 18,
   "id": "07a912d3",
   "metadata": {},
   "outputs": [],
   "source": [
    "df6.drop(df6.columns.difference(['length','chroma_stft_mean','perceptr_var','rms_mean','mfcc1_mean','rms_var','rolloff_mean','spectral_bandwidth_mean','mfcc4_mean','chroma_stft_var','label']),1,inplace=True)"
   ]
  },
  {
   "cell_type": "code",
   "execution_count": 19,
   "id": "6ece5f1b",
   "metadata": {},
   "outputs": [],
   "source": [
    "X2=df6.drop('label',axis='columns')\n",
    "y2=df6.label"
   ]
  },
  {
   "cell_type": "code",
   "execution_count": 22,
   "id": "bdb174f1",
   "metadata": {},
   "outputs": [
    {
     "data": {
      "text/plain": [
       "ExtraTreesClassifier()"
      ]
     },
     "execution_count": 22,
     "metadata": {},
     "output_type": "execute_result"
    }
   ],
   "source": [
    "from sklearn.ensemble import ExtraTreesClassifier\n",
    "import matplotlib.pyplot as plt\n",
    "model = ExtraTreesClassifier()\n",
    "model.fit(X2,y2)"
   ]
  },
  {
   "cell_type": "markdown",
   "id": "c448e275",
   "metadata": {},
   "source": [
    "#  <h1> score without using train_test_split </h1>"
   ]
  },
  {
   "cell_type": "code",
   "execution_count": 21,
   "id": "abfee5c0",
   "metadata": {},
   "outputs": [
    {
     "data": {
      "text/plain": [
       "0.999"
      ]
     },
     "execution_count": 21,
     "metadata": {},
     "output_type": "execute_result"
    }
   ],
   "source": [
    "model.score(X2,y2)"
   ]
  },
  {
   "cell_type": "code",
   "execution_count": 38,
   "id": "33ee5234",
   "metadata": {},
   "outputs": [],
   "source": [
    "from sklearn.model_selection import train_test_split\n",
    "X2_train, X2_test, y2_train, y2_test = train_test_split(X2,y2,test_size=0.3)"
   ]
  },
  {
   "cell_type": "markdown",
   "id": "7f23afac",
   "metadata": {},
   "source": [
    "# score using train test split for ExtraTreesClassifiers"
   ]
  },
  {
   "cell_type": "code",
   "execution_count": 24,
   "id": "982ba24f",
   "metadata": {},
   "outputs": [
    {
     "data": {
      "text/plain": [
       "ExtraTreesClassifier()"
      ]
     },
     "execution_count": 24,
     "metadata": {},
     "output_type": "execute_result"
    }
   ],
   "source": [
    "model2 = ExtraTreesClassifier()\n",
    "model2.fit(X2_train,y2_train)"
   ]
  },
  {
   "cell_type": "code",
   "execution_count": 39,
   "id": "6abb5c87",
   "metadata": {},
   "outputs": [
    {
     "data": {
      "text/plain": [
       "0.9266666666666666"
      ]
     },
     "execution_count": 39,
     "metadata": {},
     "output_type": "execute_result"
    }
   ],
   "source": [
    "model2.score(X2_test,y2_test)"
   ]
  },
  {
   "cell_type": "markdown",
   "id": "c7c53adc",
   "metadata": {},
   "source": [
    "# score using Random forests"
   ]
  },
  {
   "cell_type": "code",
   "execution_count": 59,
   "id": "fe78b5ff",
   "metadata": {},
   "outputs": [
    {
     "data": {
      "text/plain": [
       "RandomForestClassifier(n_estimators=20)"
      ]
     },
     "execution_count": 59,
     "metadata": {},
     "output_type": "execute_result"
    }
   ],
   "source": [
    "from sklearn.ensemble import RandomForestClassifier\n",
    "model3= RandomForestClassifier(n_estimators=20)\n",
    "model3.fit(X2_train, y2_train)"
   ]
  },
  {
   "cell_type": "code",
   "execution_count": 60,
   "id": "9814da92",
   "metadata": {},
   "outputs": [
    {
     "data": {
      "text/plain": [
       "0.6633333333333333"
      ]
     },
     "execution_count": 60,
     "metadata": {},
     "output_type": "execute_result"
    }
   ],
   "source": [
    "model3.score(X2_test, y2_test)"
   ]
  },
  {
   "cell_type": "markdown",
   "id": "00143daf",
   "metadata": {},
   "source": [
    "# score using knn"
   ]
  },
  {
   "cell_type": "code",
   "execution_count": 53,
   "id": "64975e01",
   "metadata": {},
   "outputs": [],
   "source": [
    "from sklearn.neighbors import KNeighborsClassifier\n",
    "knn = KNeighborsClassifier(n_neighbors=25)"
   ]
  },
  {
   "cell_type": "code",
   "execution_count": 54,
   "id": "79d317cb",
   "metadata": {},
   "outputs": [
    {
     "data": {
      "text/plain": [
       "KNeighborsClassifier(n_neighbors=25)"
      ]
     },
     "execution_count": 54,
     "metadata": {},
     "output_type": "execute_result"
    }
   ],
   "source": [
    "knn.fit(X2_train, y2_train)"
   ]
  },
  {
   "cell_type": "code",
   "execution_count": 55,
   "id": "f8fe60c7",
   "metadata": {},
   "outputs": [
    {
     "data": {
      "text/plain": [
       "0.35333333333333333"
      ]
     },
     "execution_count": 55,
     "metadata": {},
     "output_type": "execute_result"
    }
   ],
   "source": [
    "knn.score(X2_test,y2_test)"
   ]
  },
  {
   "cell_type": "code",
   "execution_count": null,
   "id": "11d5c244",
   "metadata": {},
   "outputs": [],
   "source": []
  },
  {
   "cell_type": "markdown",
   "id": "8b920e36",
   "metadata": {},
   "source": [
    "# using cross validation for score and predicting the values"
   ]
  },
  {
   "cell_type": "code",
   "execution_count": 26,
   "id": "2bb0c410",
   "metadata": {},
   "outputs": [],
   "source": [
    "from sklearn.model_selection import cross_val_score"
   ]
  },
  {
   "cell_type": "code",
   "execution_count": 27,
   "id": "24c08891",
   "metadata": {},
   "outputs": [
    {
     "data": {
      "text/plain": [
       "0.7042045837546342"
      ]
     },
     "execution_count": 27,
     "metadata": {},
     "output_type": "execute_result"
    }
   ],
   "source": [
    "ans=cross_val_score(ExtraTreesClassifier(n_estimators=50),X2, y2,cv=43)\n",
    "np.average(ans)"
   ]
  },
  {
   "cell_type": "code",
   "execution_count": 30,
   "id": "dd042be8",
   "metadata": {},
   "outputs": [
    {
     "data": {
      "text/html": [
       "<div>\n",
       "<style scoped>\n",
       "    .dataframe tbody tr th:only-of-type {\n",
       "        vertical-align: middle;\n",
       "    }\n",
       "\n",
       "    .dataframe tbody tr th {\n",
       "        vertical-align: top;\n",
       "    }\n",
       "\n",
       "    .dataframe thead th {\n",
       "        text-align: right;\n",
       "    }\n",
       "</style>\n",
       "<table border=\"1\" class=\"dataframe\">\n",
       "  <thead>\n",
       "    <tr style=\"text-align: right;\">\n",
       "      <th></th>\n",
       "      <th>length</th>\n",
       "      <th>chroma_stft_mean</th>\n",
       "      <th>chroma_stft_var</th>\n",
       "      <th>rms_mean</th>\n",
       "      <th>rms_var</th>\n",
       "      <th>spectral_bandwidth_mean</th>\n",
       "      <th>rolloff_mean</th>\n",
       "      <th>perceptr_var</th>\n",
       "      <th>mfcc1_mean</th>\n",
       "      <th>mfcc4_mean</th>\n",
       "      <th>label</th>\n",
       "    </tr>\n",
       "  </thead>\n",
       "  <tbody>\n",
       "    <tr>\n",
       "      <th>885</th>\n",
       "      <td>661504</td>\n",
       "      <td>0.395937</td>\n",
       "      <td>0.092713</td>\n",
       "      <td>0.119592</td>\n",
       "      <td>0.003573</td>\n",
       "      <td>1649.26749</td>\n",
       "      <td>3439.30885</td>\n",
       "      <td>0.005197</td>\n",
       "      <td>-175.087677</td>\n",
       "      <td>59.922405</td>\n",
       "      <td>8</td>\n",
       "    </tr>\n",
       "  </tbody>\n",
       "</table>\n",
       "</div>"
      ],
      "text/plain": [
       "     length  chroma_stft_mean  chroma_stft_var  rms_mean   rms_var  \\\n",
       "885  661504          0.395937         0.092713  0.119592  0.003573   \n",
       "\n",
       "     spectral_bandwidth_mean  rolloff_mean  perceptr_var  mfcc1_mean  \\\n",
       "885               1649.26749    3439.30885      0.005197 -175.087677   \n",
       "\n",
       "     mfcc4_mean  label  \n",
       "885   59.922405      8  "
      ]
     },
     "execution_count": 30,
     "metadata": {},
     "output_type": "execute_result"
    }
   ],
   "source": [
    "ans=X2.iloc[[885]]\n",
    "df6.iloc[[885]]"
   ]
  },
  {
   "cell_type": "code",
   "execution_count": 33,
   "id": "ab25c7ba",
   "metadata": {},
   "outputs": [
    {
     "name": "stdout",
     "output_type": "stream",
     "text": [
      "[2 8 2 0 2 0 0 0 2 0 0 0 0 5 0 0 0 0 0 0 0 0 0 0 0 0 0 0 0 0 0 0 0 0 0 0 0\n",
      " 0 0 0 0 0 0 0 0 0 0 0 9 2 0 0 0 0 0 0 9 0 0 0 0 0 0 9 0 0 0 0 0 0 0 0 0 0\n",
      " 0 4 4 0 0 6 0 0 0 0 0 0 0 2 0 0 8 2 0 0 0 9 1 0 9 2 1 1 1 1 1 1 1 1 1 1 1\n",
      " 1 1 1 1 1 1 1 1 1 1 1 1 1 1 1 1 1 1 1 1 1 1 1 1 1 1 1 1 1 1 1 1 5 1 1 9 1\n",
      " 1 7 1 8 2 1 2 1 2 1 1 1 5 1 1 1 1 1 1 1 1 1 1 1 1 1 1 1 1 1 1 1 1 1 1 1 1\n",
      " 1 1 1 1 1 1 5 5 5 1 1 5 1 5 1 2 2 5 3 2 9 9 2 2 9 5 5 2 2 2 9 2 2 2 0 9 2\n",
      " 2 5 5 2 2 2 2 2 5 2 5 0 2 2 5 2 2 9 3 2 2 2 2 7 2 9 5 2 2 2 5 9 5 2 2 2 2\n",
      " 2 2 2 9 8 2 0 2 1 2 5 2 2 2 2 2 2 2 2 0 2 9 2 9 2 2 2 9 2 2 2 2 2 9 5 2 9\n",
      " 2 2 2 4 3 3 3 4 3 3 3 3 3 9 4 3 3 3 2 9 3 3 3 3 9 3 3 3 3 3 9 4 3 3 3 3 3\n",
      " 9 3 3 3 3 3 2 3 2 3 3 3 3 8 1 3 3 3 3 3 3 6 6 8 7 3 3 3 7 3 4 8 3 3 3 3 3\n",
      " 3 3 3 3 3 3 3 3 8 8 3 8 3 8 3 3 3 3 3 3 3 4 8 3 3 3 3 3 3 3 3 4 8 4 4 4 4\n",
      " 4 4 4 4 4 0 2 6 3 4 4 4 4 4 0 4 2 4 4 4 3 2 3 3 7 3 3 3 4 4 4 4 4 4 4 4 4\n",
      " 5 4 4 4 4 4 4 4 4 3 3 8 4 4 4 4 8 9 4 4 4 4 4 4 4 4 4 4 4 4 4 4 4 7 4 7 7\n",
      " 4 4 4 8 4 8 4 4 4 4 4 4 4 8 4 0 4 4 4 1 1 1 1 1 0 5 5 2 5 2 5 1 5 1 5 5 5\n",
      " 5 1 5 9 1 5 5 5 5 5 5 5 1 5 5 5 5 5 5 5 2 5 5 2 5 5 5 5 5 5 5 7 2 5 5 5 1\n",
      " 5 3 2 5 0 5 2 2 5 9 5 1 5 5 5 5 5 5 5 5 5 2 5 5 9 5 5 5 5 5 5 5 5 2 5 5 5\n",
      " 5 5 1 5 5 1 5 5 6 6 6 6 6 6 6 6 6 6 6 6 6 6 6 6 6 6 6 6 6 6 6 6 6 6 6 6 6\n",
      " 6 6 6 6 6 6 6 6 3 3 6 6 6 6 6 6 6 6 6 6 6 6 6 6 6 6 6 6 6 9 9 6 6 6 6 6 6\n",
      " 6 6 6 6 3 6 6 6 6 6 6 6 6 6 6 6 6 6 6 6 6 6 6 8 6 3 3 6 6 6 6 4 4 4 7 7 7\n",
      " 8 7 7 8 7 7 3 3 5 7 8 8 7 7 7 7 7 7 7 7 7 7 7 7 7 7 7 7 7 8 7 7 7 7 7 7 7\n",
      " 7 7 7 3 7 7 7 7 7 8 7 7 7 7 7 7 7 7 7 7 7 4 7 8 7 7 7 7 7 6 7 7 7 7 7 7 7\n",
      " 7 7 8 7 8 7 8 7 4 3 7 7 7 7 7 7 7 7 7 7 7 7 7 2 2 8 8 8 8 0 8 8 8 5 8 8 8\n",
      " 8 8 9 4 8 8 8 9 4 4 8 8 8 8 8 8 8 8 8 8 8 8 8 8 8 8 5 8 3 2 8 7 3 3 3 8 8\n",
      " 3 7 8 8 8 8 8 8 7 5 7 8 8 7 4 8 8 3 8 8 8 7 7 8 3 4 8 3 3 8 8 8 2 8 8 7 7\n",
      " 7 0 3 3 8 8 3 7 8 5 8 6 8 9 0 8 0 0 2 0 9 0 0 2 8 8 8 8 6 9 9 9 9 9 9 0 9\n",
      " 9 9 3 9 3 2 3 5 2 5 9 2 9 7 9 9 3 3 3 2 2 2 3 2 2 8 3 8 3 5 9 3 3 9 5 2 5\n",
      " 5 5 2 9 9 0 9 5 9 9 2 9 2 0 2 9 8 9 9 0 9 0 9 5 8 9 9 2 2 6 9 2 9 9 9 9 2\n",
      " 2]\n"
     ]
    }
   ],
   "source": [
    "from sklearn.model_selection import cross_val_predict\n",
    "y_pred=cross_val_predict(ExtraTreesClassifier(n_estimators=50),X2,y2,cv=43)\n",
    "print(y_pred)"
   ]
  },
  {
   "cell_type": "code",
   "execution_count": 65,
   "id": "ba7c07af",
   "metadata": {},
   "outputs": [
    {
     "data": {
      "text/plain": [
       "8"
      ]
     },
     "execution_count": 65,
     "metadata": {},
     "output_type": "execute_result"
    }
   ],
   "source": [
    "y_pred[892]"
   ]
  },
  {
   "cell_type": "markdown",
   "id": "777871c2",
   "metadata": {},
   "source": [
    "# confusion matrix"
   ]
  },
  {
   "cell_type": "code",
   "execution_count": 64,
   "id": "9d76127a",
   "metadata": {},
   "outputs": [
    {
     "data": {
      "text/plain": [
       "<AxesSubplot:>"
      ]
     },
     "execution_count": 64,
     "metadata": {},
     "output_type": "execute_result"
    },
    {
     "data": {
      "image/png": "[encoded data removed]",
      "text/plain": [
       "<Figure size 864x864 with 2 Axes>"
      ]
     },
     "metadata": {
      "needs_background": "light"
     },
     "output_type": "display_data"
    }
   ],
   "source": [
    "from sklearn.metrics import confusion_matrix\n",
    "import seaborn as sns\n",
    "conf_mat=confusion_matrix(y_pred,y)\n",
    "fig,ax=plt.subplots(figsize=(12,12))\n",
    "sns.heatmap(conf_mat,square=True, annot=True, cmap='Purples_r', fmt='d', cbar=True,ax=ax)"
   ]
  },
  {
   "cell_type": "markdown",
   "id": "a3c1ff87",
   "metadata": {},
   "source": [
    "# function for printing the genre of the song\n"
   ]
  },
  {
   "cell_type": "markdown",
   "id": "b75eaa1b",
   "metadata": {},
   "source": [
    "### example-1 for song no 775 it correct predicts the category as 7"
   ]
  },
  {
   "cell_type": "code",
   "execution_count": 115,
   "id": "5f4d2e11",
   "metadata": {},
   "outputs": [],
   "source": [
    "df8=df6.copy()\n",
    "\n",
    "def predict_genre(index):\n",
    "    y_pred=cross_val_predict(ExtraTreesClassifier(n_estimators=50),X2,y2,cv=43)\n",
    "    return y_pred[index]"
   ]
  },
  {
   "cell_type": "code",
   "execution_count": 116,
   "id": "272a67fd",
   "metadata": {},
   "outputs": [
    {
     "name": "stdout",
     "output_type": "stream",
     "text": [
      "775\n"
     ]
    },
    {
     "data": {
      "text/plain": [
       "7"
      ]
     },
     "execution_count": 116,
     "metadata": {},
     "output_type": "execute_result"
    }
   ],
   "source": [
    "n=int(input())\n",
    "predict_genre(n)"
   ]
  },
  {
   "cell_type": "markdown",
   "id": "f1c0ecd1",
   "metadata": {},
   "source": [
    "#### example-2 for song no 3 it corretly predicts the category as 0"
   ]
  },
  {
   "cell_type": "code",
   "execution_count": 117,
   "id": "be1db6ed",
   "metadata": {},
   "outputs": [
    {
     "name": "stdout",
     "output_type": "stream",
     "text": [
      "3\n"
     ]
    },
    {
     "data": {
      "text/plain": [
       "0"
      ]
     },
     "execution_count": 117,
     "metadata": {},
     "output_type": "execute_result"
    }
   ],
   "source": [
    "n=int(input())\n",
    "predict_genre(n)"
   ]
  },
  {
   "cell_type": "code",
   "execution_count": null,
   "id": "c55b87ab",
   "metadata": {},
   "outputs": [],
   "source": []
  },
  {
   "cell_type": "code",
   "execution_count": null,
   "id": "f3c06a38",
   "metadata": {},
   "outputs": [],
   "source": []
  },
  {
   "cell_type": "code",
   "execution_count": null,
   "id": "ac66ec72",
   "metadata": {},
   "outputs": [],
   "source": []
  },
  {
   "cell_type": "code",
   "execution_count": null,
   "id": "fc42b922",
   "metadata": {},
   "outputs": [],
   "source": []
  }
 ],
 "metadata": {
  "kernelspec": {
   "display_name": "Python 3",
   "language": "python",
   "name": "python3"
  },
  "language_info": {
   "codemirror_mode": {
    "name": "ipython",
    "version": 3
   },
   "file_extension": ".py",
   "mimetype": "text/x-python",
   "name": "python",
   "nbconvert_exporter": "python",
   "pygments_lexer": "ipython3",
   "version": "3.8.8"
  }
 },
 "nbformat": 4,
 "nbformat_minor": 5
}
